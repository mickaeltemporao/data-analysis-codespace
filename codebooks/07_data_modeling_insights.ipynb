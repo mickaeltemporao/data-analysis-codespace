{
  "nbformat": 4,
  "nbformat_minor": 0,
  "metadata": {
    "colab": {
      "provenance": [],
      "authorship_tag": "ABX9TyN8iFq9uVKh7RjKlNal/eIE"
    },
    "kernelspec": {
      "name": "python3",
      "display_name": "Python 3"
    },
    "language_info": {
      "name": "python"
    }
  },
  "cells": [
    {
      "cell_type": "markdown",
      "source": [
        "# How Does Political Knowledge impact levels of # affective polarization\n",
        "- H1: low levels lead of PK lead to more affective polarization\n"
      ],
      "metadata": {
        "id": "x9R4_PezWLBN"
      }
    },
    {
      "cell_type": "code",
      "source": [
        "# Load relevant packages\n",
        "import numpy as np\n",
        "import pandas as pd\n",
        "# import seaborn as sns\n",
        "# import statsmodels.formula.api as sm\n",
        "\n",
        "# from statsmodels.iolib.summary2 import summary_col\n",
        "# from matplotlib import pyplot as plt"
      ],
      "metadata": {
        "id": "xXcxcbJaV4iI"
      },
      "execution_count": null,
      "outputs": []
    },
    {
      "cell_type": "code",
      "source": [
        "# Load the data\n",
        "data_url = \"https://raw.githubusercontent.com/datamisc/ts-2020/main/data.csv\"\n",
        "anes_data = pd.read_csv(data_url, compression='gzip')"
      ],
      "metadata": {
        "id": "h4Vrb37BbE8S"
      },
      "execution_count": null,
      "outputs": []
    },
    {
      "cell_type": "code",
      "source": [
        "# Creating a dictionnary of interesting variables\n",
        "vars = {\n",
        "    \"V201033\": \"vote_intention\",\n",
        "    \"V201507x\": \"age\",\n",
        "    \"V201600\": \"sex\",\n",
        "    \"V201511x\": \"education\",\n",
        "    \"V201617x\": \"income\",\n",
        "    \"V201228\": \"party_id\",\n",
        "    \"V201231x\": \"party_id_str\",\n",
        "    \"V201232\": \"party_id_imp\",\n",
        "    \"V201200\": \"ideology\",\n",
        "    \"V201156\": \"feeling_democrat\",\n",
        "    \"V201157\": \"feeling_republican\",\n",
        "    \"V201641\": \"political_knowledge_intro\",\n",
        "    \"V201642\": \"political_knowledge_catch1\",\n",
        "    \"V201643\": \"political_knowledge_catch_feedback\",\n",
        "    \"V201644\": \"political_knowledge_senate_term\",\n",
        "    \"V201645\": \"political_knowledge_least_spending\",\n",
        "    \"V201646\": \"political_knowledge_house_majority\",\n",
        "    \"V201647\": \"political_knowledge_senate_majority\",\n",
        "    \"V202406\": \"political_interest\",\n",
        "    \"V202407\": \"follow_politics_media\",\n",
        "    \"V202408\": \"understand_issues\"\n",
        "}\n"
      ],
      "metadata": {
        "id": "QbiG6ZvXbHkH"
      },
      "execution_count": null,
      "outputs": []
    },
    {
      "cell_type": "code",
      "source": [
        "# Select & Rename variables to make them more descriptive\n",
        "df = anes_data[vars.keys()]\n",
        "df = df.rename(columns=vars)"
      ],
      "metadata": {
        "id": "3f3801H6WfRH"
      },
      "execution_count": null,
      "outputs": []
    },
    {
      "cell_type": "markdown",
      "source": [
        "# Step 2: Clean & Create Relevant Variables\n",
        "We will create a political knowledge scale by summing the correct answers to the political knowledge questions.\n"
      ],
      "metadata": {
        "id": "5Ujv5_2PW8FZ"
      }
    },
    {
      "cell_type": "code",
      "source": [
        "# Quick Data Cleaning | WARNING We could be dropping relevant observations!\n",
        "\n",
        "# age\n",
        "df['age'].describe()\n",
        "mask = df['age'] >= 18\n",
        "df = df[mask]\n",
        "\n",
        "# sex\n",
        "df['sex'].value_counts()\n",
        "mask = df['sex'].between(1,2)\n",
        "df = df[mask]\n",
        "df['sex'] = df['sex'].apply(lambda x: 1 if x == 1 else 0)\n",
        "# Or with map\n",
        "# df['sex'] = df['sex'].map({1: 1, 2: 0})\n",
        "\n",
        "# education\n",
        "df['education'].value_counts()\n",
        "mask = df['education'] > 0\n",
        "df = df[mask]\n",
        "\n",
        "# ideology\n",
        "df['ideology'].value_counts()\n",
        "mask = df['ideology'].between(1,7)\n",
        "df = df[mask]\n",
        "\n",
        "# party_id\n",
        "df['party_id'].value_counts()\n",
        "mask = df['party_id'].between(1,3)\n",
        "df = df[mask]\n",
        "\n",
        "# vote_intention\n",
        "df = df[df['vote_intention'].between(1,2)]  # We are keeping intentions for major parties\n",
        "\n",
        "# You could also skip the mask step\n",
        "# political_interest\n",
        "df['political_interest'].value_counts()\n",
        "df = df[df['political_interest'] > 0]\n",
        "\n",
        "# follow_politics_media\n",
        "df['follow_politics_media'].value_counts()\n",
        "df = df[df['follow_politics_media'] > 0]\n",
        "\n",
        "# understand_issues\n",
        "df['understand_issues'].value_counts()\n",
        "df = df[df['understand_issues'] > 0]\n"
      ],
      "metadata": {
        "id": "V-SD2MkUXLRm"
      },
      "execution_count": null,
      "outputs": []
    },
    {
      "cell_type": "markdown",
      "source": [
        "# Step 3: Build Quantities of Interests\n"
      ],
      "metadata": {
        "id": "-EzzX95nYpSu"
      }
    },
    {
      "cell_type": "code",
      "source": [
        "# Build an Affective Polarization Variable (DV)\n",
        "# We calculate affective polarization based on feeling thermometer scores.\n",
        "mask = (df['feeling_democrat'] >= 0) & (df['feeling_republican'] >= 0 )\n",
        "df = df[mask]\n",
        "\n",
        "df['affective_polarization'] = np.abs(df['feeling_democrat'] - df['feeling_republican'])"
      ],
      "metadata": {
        "id": "udQ1FOE-YoLy"
      },
      "execution_count": null,
      "outputs": []
    },
    {
      "cell_type": "code",
      "source": [
        "# Creating a Poliitcal Knowledge Scale Variable (IV)\n",
        "\n",
        "# First we identify the variable we need\n",
        "political_knowledge_vars = [\n",
        "    \"political_knowledge_senate_term\",\n",
        "    \"political_knowledge_least_spending\",\n",
        "    \"political_knowledge_house_majority\",\n",
        "    \"political_knowledge_senate_majority\"\n",
        "]"
      ],
      "metadata": {
        "id": "ApyR6_myWnXF"
      },
      "execution_count": null,
      "outputs": []
    },
    {
      "cell_type": "code",
      "source": [
        "# Define a function to clean and recode political knowledge responses\n",
        "def clean_knowledge_variable(series, correct_values):\n",
        "    # Replace invalid codes with NaN\n",
        "    series_cleaned = series.replace([-9, -5, -4, -1], np.nan)\n",
        "    # Recode correct answers as 1, others as 0\n",
        "    series_cleaned = series_cleaned.apply(lambda x: 1 if x in correct_values else 0)\n",
        "    return series_cleaned"
      ],
      "metadata": {
        "id": "tghTEo05ZMq-"
      },
      "execution_count": null,
      "outputs": []
    },
    {
      "cell_type": "code",
      "source": [
        "# Apply the created function\n",
        "df['political_knowledge_senate_term'] = clean_knowledge_variable(df['political_knowledge_senate_term'], [6])\n",
        "df['political_knowledge_least_spending'] = clean_knowledge_variable(df['political_knowledge_least_spending'], [1])\n",
        "df['political_knowledge_house_majority'] = clean_knowledge_variable(df['political_knowledge_house_majority'], [1])\n",
        "df['political_knowledge_senate_majority'] = clean_knowledge_variable(df['political_knowledge_senate_majority'], [2])"
      ],
      "metadata": {
        "id": "NbyhSc76ZPLb"
      },
      "execution_count": null,
      "outputs": []
    },
    {
      "cell_type": "code",
      "source": [
        "# Finally sum the values over the Political Knowledge variables\n",
        "print(df[political_knowledge_vars].head())\n",
        "df['political_knowledge_scale'] = df[political_knowledge_vars].sum(axis=1)"
      ],
      "metadata": {
        "id": "3nxdcpjLXta7"
      },
      "execution_count": null,
      "outputs": []
    },
    {
      "cell_type": "code",
      "source": [
        "## Take a look at our DV\n",
        "df['affective_polarization'].plot(kind='kde', title='Density Plot')"
      ],
      "metadata": {
        "id": "FbPomEGxYF4b"
      },
      "execution_count": null,
      "outputs": []
    },
    {
      "cell_type": "code",
      "source": [
        "## Or using Seaborn!\n",
        "sns.kdeplot(\n",
        "   data=df, x=\"affective_polarization\", hue=\"sex\",\n",
        "   fill=True, common_norm=False, palette=\"crest\",\n",
        "   alpha=.5, linewidth=0,\n",
        ")"
      ],
      "metadata": {
        "id": "-uFVTDHSaQdo"
      },
      "execution_count": null,
      "outputs": []
    },
    {
      "cell_type": "code",
      "source": [
        "# Take a look at the IV\n",
        "df['political_knowledge_scale'].value_counts().sort_index().plot(\n",
        "    kind='bar',\n",
        "    title=\"Distribution of Political Knowledge Scale\"\n",
        ")\n"
      ],
      "metadata": {
        "id": "I6cfetAzaPwd"
      },
      "execution_count": null,
      "outputs": []
    },
    {
      "cell_type": "markdown",
      "source": [
        "# Step 4: Modeling - Build a Regression Model\n",
        "We will use the cleaned data stored in `df` to build a regression model.\n",
        "We will include control variables such as age, sex, income, and ideology.\n"
      ],
      "metadata": {
        "id": "Omm4hobAalp8"
      }
    },
    {
      "cell_type": "code",
      "source": [
        "# First we define the model formula\n",
        "# It takes the following form DV ~ IV + CV\n",
        "\n",
        "formula = \"affective_polarization ~ political_knowledge_scale + age + sex + ideology\""
      ],
      "metadata": {
        "id": "tNgcUP-BaaEY"
      },
      "execution_count": null,
      "outputs": []
    },
    {
      "cell_type": "code",
      "source": [
        "# Fit the regression model\n",
        "model = sm.ols(formula=formula, data=df).fit()"
      ],
      "metadata": {
        "id": "H2_wuaM1aoyJ"
      },
      "execution_count": null,
      "outputs": []
    },
    {
      "cell_type": "code",
      "source": [
        "# Print the summary of the regression model\n",
        "print(model.summary())"
      ],
      "metadata": {
        "id": "CzK_J8kXapxK"
      },
      "execution_count": null,
      "outputs": []
    },
    {
      "cell_type": "code",
      "source": [
        "# Export model to Markdown/Latex\n",
        "print(summary_col([model]).as_latex())\n"
      ],
      "metadata": {
        "id": "qqdDmjZVaqq-"
      },
      "execution_count": null,
      "outputs": []
    },
    {
      "cell_type": "markdown",
      "source": [
        "# Step 5: Visualize Results\n",
        "Create a visualization to summarize the results of the regression model.\n"
      ],
      "metadata": {
        "id": "43jdgdNsbjJX"
      }
    },
    {
      "cell_type": "code",
      "source": [
        "# Create a DataFrame with coefficients and confidence intervals\n",
        "coef_df = pd.DataFrame({\n",
        "    'coef': model.params,\n",
        "    'lower_ci': model.conf_int()[0],\n",
        "    'upper_ci': model.conf_int()[1],\n",
        "    'pval': model.pvalues\n",
        "}).drop('Intercept')\n"
      ],
      "metadata": {
        "id": "EyDN_GBrbZpP"
      },
      "execution_count": null,
      "outputs": []
    },
    {
      "cell_type": "code",
      "source": [
        "# Make the figure\n",
        "plt.figure(figsize=(8, 10))\n",
        "# Plot each coefficient with its confidence interval\n",
        "plt.errorbar(coef_df['coef'], coef_df.index, xerr=(coef_df['coef'] - coef_df['lower_ci'], coef_df['upper_ci'] - coef_df['coef']), fmt='o', color='b', elinewidth=2, capsize=4)\n",
        "plt.axvline(x=0, color='grey', linestyle='--')  # Add a vertical line at zero for reference\n",
        "plt.title('Regression Coefficients with Confidence Intervals')\n",
        "plt.xlabel('Coefficient')\n",
        "plt.ylabel('Variables')\n",
        "plt.yticks(ticks=range(len(coef_df)), labels=coef_df.index)\n",
        "plt.grid(axis='x', linestyle='--', alpha=0.7)\n",
        "plt.tight_layout()\n"
      ],
      "metadata": {
        "id": "7JXiGgjQbfq2"
      },
      "execution_count": null,
      "outputs": []
    }
  ]
}